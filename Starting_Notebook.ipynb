{
  "nbformat": 4,
  "nbformat_minor": 0,
  "metadata": {
    "colab": {
      "name": "Starting Notebook",
      "provenance": [],
      "authorship_tag": "ABX9TyNkJ/kWJvkmvMG3c2iLwiJq",
      "include_colab_link": true
    },
    "kernelspec": {
      "name": "python3",
      "display_name": "Python 3"
    }
  },
  "cells": [
    {
      "cell_type": "markdown",
      "metadata": {
        "id": "view-in-github",
        "colab_type": "text"
      },
      "source": [
        "<a href=\"https://colab.research.google.com/github/BradBartusik/SRA-268-Spring2020/blob/master/Starting_Notebook.ipynb\" target=\"_parent\"><img src=\"https://colab.research.google.com/assets/colab-badge.svg\" alt=\"Open In Colab\"/></a>"
      ]
    },
    {
      "cell_type": "code",
      "metadata": {
        "id": "NznX-OHs4szH",
        "colab_type": "code",
        "colab": {}
      },
      "source": [
        ""
      ],
      "execution_count": 0,
      "outputs": []
    },
    {
      "cell_type": "markdown",
      "metadata": {
        "id": "_PyKQ8226CNg",
        "colab_type": "text"
      },
      "source": [
        "![alt text](https://raw.githubusercontent.com/BradBartusik/SRA-268-Spring2020/master/images/BN-NN639_NHL041_P_20160413134850.jpg)"
      ]
    }
  ]
}